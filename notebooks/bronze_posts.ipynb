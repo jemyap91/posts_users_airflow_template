{
 "cells": [
  {
   "cell_type": "code",
   "execution_count": 0,
   "metadata": {
    "application/vnd.databricks.v1+cell": {
     "cellMetadata": {
      "byteLimit": 2048000,
      "rowLimit": 10000
     },
     "inputWidgets": {},
     "nuid": "a04e8e59-3efe-4846-b757-54cb1ddf9946",
     "showTitle": false,
     "tableResultSettingsMap": {},
     "title": ""
    }
   },
   "outputs": [],
   "source": [
    " df = (\n",
    "     spark.read.format(\"xml\")\n",
    "     .option(\"rootTag\", \"posts\")\n",
    "     .option(\"rowTag\", \"row\")\n",
    "     .option(\"inferSchema\", \"true\") # infer schema\n",
    "     .load(\"/Volumes/dts_dev_kajima/default/jeremy_volume_test/Posts.xml\")\n",
    " )"
   ]
  },
  {
   "cell_type": "code",
   "execution_count": 0,
   "metadata": {
    "application/vnd.databricks.v1+cell": {
     "cellMetadata": {
      "byteLimit": 2048000,
      "rowLimit": 10000
     },
     "inputWidgets": {},
     "nuid": "95499f3a-286b-4d69-a040-3a6cf68c0bc5",
     "showTitle": false,
     "tableResultSettingsMap": {},
     "title": ""
    }
   },
   "outputs": [],
   "source": [
    "df.printSchema()"
   ]
  },
  {
   "cell_type": "code",
   "execution_count": 0,
   "metadata": {
    "application/vnd.databricks.v1+cell": {
     "cellMetadata": {
      "byteLimit": 2048000,
      "rowLimit": 10000
     },
     "inputWidgets": {},
     "nuid": "b3d5b32a-2ee8-4b85-825a-8e76eb587eee",
     "showTitle": false,
     "tableResultSettingsMap": {},
     "title": ""
    }
   },
   "outputs": [],
   "source": [
    "from pyspark.sql.types import StructType, StructField, LongType, StringType, TimestampType\n",
    "\n",
    "schema = StructType([\n",
    "    StructField(\"_AcceptedAnswerId\", LongType(), True),\n",
    "    StructField(\"_AnswerCount\", LongType(), True),\n",
    "    StructField(\"_Body\", StringType(), True),\n",
    "    StructField(\"_ClosedDate\", TimestampType(), True),\n",
    "    StructField(\"_CommentCount\", LongType(), True),\n",
    "    StructField(\"_CommunityOwnedDate\", TimestampType(), True),\n",
    "    StructField(\"_ContentLicense\", StringType(), True),\n",
    "    StructField(\"_CreationDate\", TimestampType(), True),\n",
    "    StructField(\"_FavoriteCount\", LongType(), True),\n",
    "    StructField(\"_Id\", LongType(), True),\n",
    "    StructField(\"_LastActivityDate\", TimestampType(), True),\n",
    "    StructField(\"_LastEditDate\", TimestampType(), True),\n",
    "    StructField(\"_LastEditorDisplayName\", StringType(), True),\n",
    "    StructField(\"_LastEditorUserId\", LongType(), True),\n",
    "    StructField(\"_OwnerDisplayName\", StringType(), True),\n",
    "    StructField(\"_OwnerUserId\", LongType(), True),\n",
    "    StructField(\"_ParentId\", LongType(), True),\n",
    "    StructField(\"_PostTypeId\", LongType(), True),\n",
    "    StructField(\"_Score\", LongType(), True),\n",
    "    StructField(\"_Tags\", StringType(), True),\n",
    "    StructField(\"_Title\", StringType(), True),\n",
    "    StructField(\"_ViewCount\", LongType(), True)\n",
    "])"
   ]
  },
  {
   "cell_type": "code",
   "execution_count": 0,
   "metadata": {
    "application/vnd.databricks.v1+cell": {
     "cellMetadata": {
      "byteLimit": 2048000,
      "rowLimit": 10000
     },
     "inputWidgets": {},
     "nuid": "57827971-3922-4ecb-8436-9cf01cc9ce60",
     "showTitle": false,
     "tableResultSettingsMap": {},
     "title": ""
    }
   },
   "outputs": [],
   "source": [
    "display(df.limit(10))"
   ]
  },
  {
   "cell_type": "code",
   "execution_count": 0,
   "metadata": {
    "application/vnd.databricks.v1+cell": {
     "cellMetadata": {
      "byteLimit": 2048000,
      "rowLimit": 10000
     },
     "inputWidgets": {},
     "nuid": "16bc2318-903a-41a2-9406-51c03e6da843",
     "showTitle": false,
     "tableResultSettingsMap": {},
     "title": ""
    }
   },
   "outputs": [],
   "source": [
    " df_with_schema = (\n",
    "     spark.read.format(\"xml\")\n",
    "     .option(\"rootTag\", \"posts\")\n",
    "     .option(\"rowTag\", \"row\")\n",
    "     .schema(schema) # schema defined\n",
    "     .load(\"/Volumes/dts_dev_kajima/default/jeremy_volume_test/Posts.xml\")\n",
    " )"
   ]
  },
  {
   "cell_type": "code",
   "execution_count": 0,
   "metadata": {
    "application/vnd.databricks.v1+cell": {
     "cellMetadata": {
      "byteLimit": 2048000,
      "rowLimit": 10000
     },
     "inputWidgets": {},
     "nuid": "a32cf770-d684-4b07-ae70-d7406b00f4cf",
     "showTitle": false,
     "tableResultSettingsMap": {
      "0": {
       "dataGridStateBlob": "{\"version\":1,\"tableState\":{\"columnPinning\":{\"left\":[\"#row_number#\"],\"right\":[]},\"columnSizing\":{},\"columnVisibility\":{}},\"settings\":{\"columns\":{}},\"syncTimestamp\":1754897489434}",
       "filterBlob": null,
       "queryPlanFiltersBlob": null,
       "tableResultIndex": 0
      }
     },
     "title": ""
    }
   },
   "outputs": [],
   "source": [
    "new_column_names = [col[1:] for col in df.columns] # clean underscore\n",
    "df_with_schema = df_with_schema.toDF(*new_column_names)\n",
    "display(df_with_schema.limit(10))"
   ]
  },
  {
   "cell_type": "code",
   "execution_count": 0,
   "metadata": {
    "application/vnd.databricks.v1+cell": {
     "cellMetadata": {
      "byteLimit": 2048000,
      "rowLimit": 10000
     },
     "inputWidgets": {},
     "nuid": "59095909-9c47-4e74-a136-359d586d25cc",
     "showTitle": false,
     "tableResultSettingsMap": {},
     "title": ""
    }
   },
   "outputs": [],
   "source": [
    "df_with_schema.write.mode(\"overwrite\").option(\"overwriteSchema\", \"true\").saveAsTable(\"raw_posts\")"
   ]
  },
  {
   "cell_type": "code",
   "execution_count": 0,
   "metadata": {
    "application/vnd.databricks.v1+cell": {
     "cellMetadata": {},
     "inputWidgets": {},
     "nuid": "066ecacc-b73c-474e-8536-94a577b95f6c",
     "showTitle": false,
     "tableResultSettingsMap": {},
     "title": ""
    }
   },
   "outputs": [],
   "source": []
  }
 ],
 "metadata": {
  "application/vnd.databricks.v1+notebook": {
   "computePreferences": null,
   "dashboards": [],
   "environmentMetadata": {
    "base_environment": "",
    "environment_version": "2"
   },
   "inputWidgetPreferences": null,
   "language": "python",
   "notebookMetadata": {
    "pythonIndentUnit": 4
   },
   "notebookName": "bronze_posts",
   "widgets": {}
  },
  "language_info": {
   "name": "python"
  }
 },
 "nbformat": 4,
 "nbformat_minor": 0
}
