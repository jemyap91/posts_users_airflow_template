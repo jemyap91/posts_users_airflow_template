{
 "cells": [
  {
   "cell_type": "code",
   "execution_count": 0,
   "metadata": {
    "application/vnd.databricks.v1+cell": {
     "cellMetadata": {
      "byteLimit": 2048000,
      "rowLimit": 10000
     },
     "inputWidgets": {},
     "nuid": "f71953e5-c50b-4b94-b87b-0d49c72c2c88",
     "showTitle": false,
     "tableResultSettingsMap": {},
     "title": ""
    }
   },
   "outputs": [],
   "source": [
    "stg_posts_df = spark.table(\"default.stg_posts\")\n",
    "raw_users_df = spark.table(\"default.raw_users\")"
   ]
  },
  {
   "cell_type": "code",
   "execution_count": 0,
   "metadata": {
    "application/vnd.databricks.v1+cell": {
     "cellMetadata": {
      "byteLimit": 2048000,
      "rowLimit": 10000
     },
     "inputWidgets": {},
     "nuid": "d21e1cfe-7241-47a9-b377-599cacd4d35b",
     "showTitle": false,
     "tableResultSettingsMap": {},
     "title": ""
    }
   },
   "outputs": [],
   "source": [
    "from pyspark.sql import DataFrame\n",
    "import pyspark.sql.functions as F\n",
    "\n",
    "'''\n",
    "Create one big table (OBT) denormalization so you can create dashboards for business users\n",
    "'''\n",
    "def posts_users_OBT(stg_posts_df: DataFrame, raw_users_df: DataFrame) -> DataFrame:\n",
    "    return (\n",
    "        stg_posts_df\n",
    "        .alias(\"posts\")\n",
    "        .withColumnRenamed(\"CreationDate\", \"PostCreationDate\")\n",
    "        .join(\n",
    "            other=raw_users_df\n",
    "                .withColumnRenamed(\"CreationDate\", \"UserCreationDate\")\n",
    "                .alias(\"users\"),\n",
    "            on=F.col(\"posts.OwnerUserId\") == F.col(\"users.Id\"),\n",
    "            how=\"left\"\n",
    "        )\n",
    "    )\n",
    "\n",
    "marts_posts_user_df = posts_users_OBT(stg_posts_df, raw_users_df)"
   ]
  },
  {
   "cell_type": "code",
   "execution_count": 0,
   "metadata": {
    "application/vnd.databricks.v1+cell": {
     "cellMetadata": {
      "byteLimit": 2048000,
      "rowLimit": 10000
     },
     "inputWidgets": {},
     "nuid": "181867fc-e090-49ee-8e88-14bd3cc63815",
     "showTitle": false,
     "tableResultSettingsMap": {},
     "title": ""
    }
   },
   "outputs": [],
   "source": [
    "marts_posts_user_df.write.mode(\"overwrite\").saveAsTable(\"marts_posts_users\")\n",
    "\n",
    "display(spark.table(\"default.marts_posts_users\").limit(10))\n"
   ]
  },
  {
   "cell_type": "code",
   "execution_count": 0,
   "metadata": {
    "application/vnd.databricks.v1+cell": {
     "cellMetadata": {},
     "inputWidgets": {},
     "nuid": "ada11f41-2d7a-4826-afc4-f86f2cb661f2",
     "showTitle": false,
     "tableResultSettingsMap": {},
     "title": ""
    }
   },
   "outputs": [],
   "source": []
  }
 ],
 "metadata": {
  "application/vnd.databricks.v1+notebook": {
   "computePreferences": null,
   "dashboards": [],
   "environmentMetadata": {
    "base_environment": "",
    "environment_version": "2"
   },
   "inputWidgetPreferences": null,
   "language": "python",
   "notebookMetadata": {
    "pythonIndentUnit": 4
   },
   "notebookName": "gold_posts_users",
   "widgets": {}
  },
  "language_info": {
   "name": "python"
  }
 },
 "nbformat": 4,
 "nbformat_minor": 0
}
