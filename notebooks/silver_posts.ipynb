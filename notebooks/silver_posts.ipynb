{
 "cells": [
  {
   "cell_type": "code",
   "execution_count": 0,
   "metadata": {
    "application/vnd.databricks.v1+cell": {
     "cellMetadata": {
      "byteLimit": 2048000,
      "rowLimit": 10000
     },
     "inputWidgets": {},
     "nuid": "d4000123-f32e-4f54-92bc-3ce46dd2e179",
     "showTitle": false,
     "tableResultSettingsMap": {},
     "title": ""
    }
   },
   "outputs": [],
   "source": [
    "raw_posts_df = spark.table(\"default.raw_posts\")\n",
    "\n",
    "display(raw_posts_df.limit(10))"
   ]
  },
  {
   "cell_type": "code",
   "execution_count": 0,
   "metadata": {
    "application/vnd.databricks.v1+cell": {
     "cellMetadata": {
      "byteLimit": 2048000,
      "rowLimit": 10000
     },
     "inputWidgets": {},
     "nuid": "62696c34-d00b-419a-9df7-d7b7a7b22a02",
     "showTitle": true,
     "tableResultSettingsMap": {},
     "title": "Declarative Transformations"
    }
   },
   "outputs": [],
   "source": [
    "import pyspark.sql.functions as F\n",
    "from pyspark.sql.types import StructType, StructField, MapType, IntegerType, StringType\n",
    "from pyspark.sql import DataFrame\n",
    "\n",
    "def split_tag_into_array(df: DataFrame) -> DataFrame:\n",
    "    return (\n",
    "        df\n",
    "        .withColumn(\"TagsArray\", F.filter(F.split(F.col(\"tags\"), r'\\|'), lambda x: x != \"\"))\n",
    "        .drop(\"Tags\")\n",
    "    )\n",
    "\n",
    "def rename_columns(df: DataFrame) -> DataFrame:\n",
    "    return (\n",
    "        df.withColumnRenamed(\"Id\", \"PostId\")\n",
    "    )\n",
    "\n",
    "def map_post_type(df: DataFrame) -> DataFrame:\n",
    "    map_data = [\n",
    "        (1, \"Question\"),\n",
    "        (2, \"Answer\"),\n",
    "        (3, \"Orphaned tag wiki\"),\n",
    "        (4, \"Tag wiki excerpt\"),\n",
    "        (5, \"Tag wiki\"),\n",
    "        (6, \"Moderator nomination\"),\n",
    "        (7, \"Wiki placeholder\"),\n",
    "        (8, \"Privilege wiki\"),\n",
    "        (9, \"Article\"),\n",
    "        (10, \"HelpArticle\"),\n",
    "        (12, \"Collection\"),\n",
    "        (13, \"ModeratorQuestionnaireResponse\"),\n",
    "        (14, \"Announcement\"),\n",
    "        (15, \"CollectiveDiscussion\"),\n",
    "        (17, \"CollectiveCollection\")\n",
    "    ]\n",
    "\n",
    "    map_schema = StructType([\n",
    "        StructField(\"PostTypeId\", IntegerType(), False),\n",
    "        StructField(\"PostType\", StringType(), False)\n",
    "    ])\n",
    "\n",
    "    map_df = spark.createDataFrame(map_data, schema=map_schema)\n",
    "\n",
    "    return df.join(\n",
    "        F.broadcast(map_df),\n",
    "        df[\"PostTypeId\"] == map_df[\"PostTypeId\"],\n",
    "        \"left\"\n",
    "    ).drop(map_df[\"PostTypeId\"])\n",
    "\n",
    "stg_posts_df = (\n",
    "    raw_posts_df\n",
    "    .transform(split_tag_into_array)\n",
    "    .transform(rename_columns)\n",
    "    .transform(map_post_type)\n",
    ")"
   ]
  },
  {
   "cell_type": "code",
   "execution_count": 0,
   "metadata": {
    "application/vnd.databricks.v1+cell": {
     "cellMetadata": {
      "byteLimit": 2048000,
      "rowLimit": 10000
     },
     "inputWidgets": {},
     "nuid": "d6a8b9d3-e905-426b-8805-37f9746ddcb3",
     "showTitle": false,
     "tableResultSettingsMap": {},
     "title": ""
    }
   },
   "outputs": [],
   "source": [
    "display(stg_posts_df)"
   ]
  },
  {
   "cell_type": "code",
   "execution_count": 0,
   "metadata": {
    "application/vnd.databricks.v1+cell": {
     "cellMetadata": {
      "byteLimit": 2048000,
      "rowLimit": 10000
     },
     "inputWidgets": {},
     "nuid": "94deca45-3f22-4a5c-86b6-86c165a29106",
     "showTitle": true,
     "tableResultSettingsMap": {},
     "title": "Incremental Upsert"
    }
   },
   "outputs": [],
   "source": [
    "from delta.tables import DeltaTable\n",
    "import pyspark.sql.functions as F\n",
    "\n",
    "def incremental_upsert(dest_table: str, df: DataFrame, unique_key: str, updated_at: str, full_refresh=False):\n",
    "    \"\"\"\n",
    "    Performs incremental upsert using updated_at as the cursor value with unique_key\n",
    "    Doesn't support deletes, very minimal\n",
    "    \"\"\"\n",
    "    if not spark.catalog.tableExists(dest_table) or full_refresh:\n",
    "        (\n",
    "            df\n",
    "            .write\n",
    "            .format(\"delta\")\n",
    "            .mode(\"overwrite\")\n",
    "            .option(\"overwriteSchema\", \"true\")\n",
    "            .saveAsTable(dest_table)\n",
    "        )\n",
    "    else:\n",
    "        last_max = (\n",
    "            spark.table(dest_table)\n",
    "                .agg(F.max(updated_at).alias(\"max_ts\"))\n",
    "                .collect()[0][\"max_ts\"]\n",
    "        )\n",
    "\n",
    "        incr_df = df.filter(F.col(updated_at) > last_max)\n",
    "\n",
    "        if incr_df.limit(1).collect():\n",
    "            delta_table = DeltaTable.forName(spark, dest_table)\n",
    "            (\n",
    "                delta_table.alias(\"t\")\n",
    "                    .merge(\n",
    "                        source=incr_df.alias(\"s\"),\n",
    "                        condition=f\"s.{unique_key} = t.{unique_key}\"\n",
    "                    )\n",
    "                    .whenMatchedUpdateAll() # existing rows updated\n",
    "                    .whenNotMatchedInsertAll() # new rows inserted\n",
    "                    .execute()\n",
    "            )\n",
    "\n",
    "dest_table = \"default.stg_posts\"\n",
    "incremental_upsert(dest_table, stg_posts_df, \"PostId\", \"CreationDate\")"
   ]
  },
  {
   "cell_type": "code",
   "execution_count": 0,
   "metadata": {
    "application/vnd.databricks.v1+cell": {
     "cellMetadata": {
      "byteLimit": 2048000,
      "rowLimit": 10000
     },
     "inputWidgets": {},
     "nuid": "17c0837c-4c40-49f7-bddd-085df408c769",
     "showTitle": false,
     "tableResultSettingsMap": {},
     "title": ""
    }
   },
   "outputs": [],
   "source": [
    "# spark.table(dest_table).rdd.getNumPartitions()\n",
    "# spark.table(dest_table).rdd.getNumPartitions()\n"
   ]
  }
 ],
 "metadata": {
  "application/vnd.databricks.v1+notebook": {
   "computePreferences": null,
   "dashboards": [],
   "environmentMetadata": {
    "base_environment": "",
    "environment_version": "2"
   },
   "inputWidgetPreferences": null,
   "language": "python",
   "notebookMetadata": {
    "pythonIndentUnit": 4
   },
   "notebookName": "silver_posts",
   "widgets": {}
  },
  "language_info": {
   "name": "python"
  }
 },
 "nbformat": 4,
 "nbformat_minor": 0
}
