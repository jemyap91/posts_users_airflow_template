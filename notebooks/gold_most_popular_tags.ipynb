{
 "cells": [
  {
   "cell_type": "code",
   "execution_count": 0,
   "metadata": {
    "application/vnd.databricks.v1+cell": {
     "cellMetadata": {
      "byteLimit": 2048000,
      "rowLimit": 10000
     },
     "inputWidgets": {},
     "nuid": "f642c481-d2ad-452a-b6b3-48cde6f6a380",
     "showTitle": false,
     "tableResultSettingsMap": {},
     "title": ""
    }
   },
   "outputs": [],
   "source": [
    "stg_posts_df = spark.table(\"default.stg_posts\")"
   ]
  },
  {
   "cell_type": "code",
   "execution_count": 0,
   "metadata": {
    "application/vnd.databricks.v1+cell": {
     "cellMetadata": {
      "byteLimit": 2048000,
      "rowLimit": 10000
     },
     "inputWidgets": {},
     "nuid": "892e13a7-5cfe-4162-a88c-760a0eaa363e",
     "showTitle": false,
     "tableResultSettingsMap": {},
     "title": ""
    }
   },
   "outputs": [],
   "source": [
    "from pyspark.sql import DataFrame\n",
    "import pyspark.sql.functions as F\n",
    "\n",
    "def posts_top_tags(stg_posts_df: DataFrame) -> DataFrame:\n",
    "    return (\n",
    "        stg_posts_df\n",
    "        .withColumn(\"tag_exploded\", F.explode(\"TagsArray\"))\n",
    "        .groupBy(\"tag_exploded\").agg(F.approx_count_distinct(\"PostId\").alias(\"tags_count\"))\n",
    "        .orderBy(F.col(\"tags_count\").desc())\n",
    "    )\n",
    "\n",
    "marts_top_tags_df = posts_top_tags(stg_posts_df)\n",
    "marts_top_tags_df.write.mode(\"overwrite\").saveAsTable(\"marts_top_tags\")\n",
    "     "
   ]
  },
  {
   "cell_type": "code",
   "execution_count": 0,
   "metadata": {
    "application/vnd.databricks.v1+cell": {
     "cellMetadata": {
      "byteLimit": 2048000,
      "rowLimit": 10000
     },
     "inputWidgets": {},
     "nuid": "4de889f4-f92a-42b7-a6d6-0a56eb2beb52",
     "showTitle": false,
     "tableResultSettingsMap": {},
     "title": ""
    }
   },
   "outputs": [],
   "source": [
    "# neural networks are the most popular tabs\n",
    "display(spark.table(\"marts_top_tags\").limit(10))"
   ]
  },
  {
   "cell_type": "code",
   "execution_count": 0,
   "metadata": {
    "application/vnd.databricks.v1+cell": {
     "cellMetadata": {},
     "inputWidgets": {},
     "nuid": "243eafd6-9e9d-4524-9fa6-5be4af17e7d9",
     "showTitle": false,
     "tableResultSettingsMap": {},
     "title": ""
    }
   },
   "outputs": [],
   "source": []
  }
 ],
 "metadata": {
  "application/vnd.databricks.v1+notebook": {
   "computePreferences": null,
   "dashboards": [],
   "environmentMetadata": {
    "base_environment": "",
    "environment_version": "2"
   },
   "inputWidgetPreferences": null,
   "language": "python",
   "notebookMetadata": {
    "pythonIndentUnit": 4
   },
   "notebookName": "gold_most_popular_tags",
   "widgets": {}
  },
  "language_info": {
   "name": "python"
  }
 },
 "nbformat": 4,
 "nbformat_minor": 0
}
